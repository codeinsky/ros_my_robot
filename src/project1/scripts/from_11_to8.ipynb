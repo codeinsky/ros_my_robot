{
 "cells": [
  {
   "cell_type": "code",
   "execution_count": 10,
   "id": "bd22030e-5f21-4f50-925e-43283100d5b7",
   "metadata": {},
   "outputs": [],
   "source": [
    "import time \n",
    "from Arm_Lib import Arm_Device\n",
    "import sys\n",
    "from time import sleep "
   ]
  },
  {
   "cell_type": "code",
   "execution_count": 11,
   "id": "c3e47051-2f9e-407a-9f3c-3ed4017e6fb5",
   "metadata": {},
   "outputs": [],
   "source": [
    "sys.path.insert(0,'../../Dofbot/0.py_install/Arm_Lib/')\n"
   ]
  },
  {
   "cell_type": "code",
   "execution_count": 12,
   "id": "be0fd1b3-954c-4f74-af34-a994b2a72a19",
   "metadata": {},
   "outputs": [],
   "source": [
    "from Arm_Lib import Arm_Device"
   ]
  },
  {
   "cell_type": "code",
   "execution_count": 13,
   "id": "eec91f0b-1b4a-41a0-9a89-a938e577c0b9",
   "metadata": {},
   "outputs": [],
   "source": [
    "Arm = Arm_Device()"
   ]
  },
  {
   "cell_type": "code",
   "execution_count": 14,
   "id": "9ee09da9-85c1-4956-8e39-d8dcb697bddb",
   "metadata": {},
   "outputs": [],
   "source": [
    "Arm.Arm_Buzzer_On(1)\n",
    "sleep(1)\n",
    "Arm.Arm_Buzzer_On(0)"
   ]
  },
  {
   "cell_type": "code",
   "execution_count": 14,
   "id": "b3fca606-07ae-4492-884c-627256ae1b23",
   "metadata": {},
   "outputs": [],
   "source": [
    "# go home \n",
    "Arm.Arm_serial_servo_write6(90,90,90,90,90,90,1500)"
   ]
  },
  {
   "cell_type": "code",
   "execution_count": 13,
   "id": "70cc0a73-57ef-4a1f-af2f-bed46876814c",
   "metadata": {},
   "outputs": [],
   "source": [
    "# got to manual position 11 with open arm \n",
    "Arm.Arm_serial_servo_write6(55, 66, 21, 33, 89, 90, 2000)\n"
   ]
  },
  {
   "cell_type": "code",
   "execution_count": 12,
   "id": "076d04f2-66fd-4e00-b86e-2547b25da85d",
   "metadata": {},
   "outputs": [],
   "source": [
    "Arm.Arm_serial_servo_write(6,146,500)"
   ]
  },
  {
   "cell_type": "code",
   "execution_count": 13,
   "id": "2f457e94-5989-4467-81b9-fb756c714e23",
   "metadata": {},
   "outputs": [],
   "source": [
    "#go to init with kube\n",
    "Arm.Arm_serial_servo_write6(88, 131, 1, 49, 90, 146 ,2000)"
   ]
  },
  {
   "cell_type": "code",
   "execution_count": 11,
   "id": "cc35263e-6b2c-4c9d-b8e4-175f131b4c52",
   "metadata": {},
   "outputs": [],
   "source": [
    "#go to posiiton 8 \n",
    "Arm.Arm_serial_servo_write6( 90, 81, 8, 28, 90, 90, 2000)\n"
   ]
  },
  {
   "cell_type": "code",
   "execution_count": 25,
   "id": "0b8fe220-fd2f-47f7-9e00-615dd790684b",
   "metadata": {},
   "outputs": [],
   "source": [
    "Arm.Arm_serial_servo_write(6,90,100)"
   ]
  },
  {
   "cell_type": "code",
   "execution_count": 7,
   "id": "c3e9ab87-35ae-4fda-84df-54aedf36bc2d",
   "metadata": {},
   "outputs": [],
   "source": [
    "#go to init with kube\n",
    "Arm.Arm_serial_servo_write6(88, 131, 1, 49, 90, 90 ,2000)"
   ]
  },
  {
   "cell_type": "code",
   "execution_count": 29,
   "id": "bc982f2a-a322-4e34-8dc8-063508d4f421",
   "metadata": {},
   "outputs": [],
   "source": [
    "sleep_time = 3\n",
    "# All steps \n",
    "# go home \n",
    "Arm.Arm_serial_servo_write6(90,90,90,90,90,90,1500)\n",
    "sleep(sleep_time)\n",
    "# got to manual position 11 with open arm \n",
    "Arm.Arm_serial_servo_write6(55, 66, 21, 33, 89, 90, 2000)\n",
    "sleep(sleep_time)\n",
    "# arm close \n",
    "Arm.Arm_serial_servo_write(6,146,500)\n",
    "sleep(sleep_time)\n",
    "# go init with closed arm \n",
    "Arm.Arm_serial_servo_write6(88, 131, 1, 49, 90, 146 ,2000)\n",
    "sleep(sleep_time)\n",
    "#go to posiiton 8 \n",
    "Arm.Arm_serial_servo_write6( 90, 81, 8, 28, 90, 146, 2000)\n",
    "sleep(sleep_time)\n",
    "# open gripper \n",
    "Arm.Arm_serial_servo_write(6,90,500)\n",
    "sleep(sleep_time)\n",
    "#go to init with kube\n",
    "Arm.Arm_serial_servo_write6(88, 131, 1, 49, 90, 90 ,2000)\n",
    "sleep(sleep_time)\n",
    "Arm.Arm_serial_servo_write6(90,90,90,90,90,90,1500)\n",
    "\n",
    "\n"
   ]
  },
  {
   "cell_type": "code",
   "execution_count": 43,
   "id": "e65fb68a-0a11-406a-8ab8-b049b438f669",
   "metadata": {},
   "outputs": [
    {
     "ename": "NameError",
     "evalue": "name 'Arm' is not defined",
     "output_type": "error",
     "traceback": [
      "\u001b[0;31m---------------------------------------------------------------------------\u001b[0m",
      "\u001b[0;31mNameError\u001b[0m                                 Traceback (most recent call last)",
      "Cell \u001b[0;32mIn[43], line 1\u001b[0m\n\u001b[0;32m----> 1\u001b[0m \u001b[38;5;28;01mdel\u001b[39;00m Arm\n",
      "\u001b[0;31mNameError\u001b[0m: name 'Arm' is not defined"
     ]
    }
   ],
   "source": [
    "del Arm"
   ]
  },
  {
   "cell_type": "code",
   "execution_count": 34,
   "id": "0efaacd1-7ea2-4b4f-9cc1-7858318eb28c",
   "metadata": {},
   "outputs": [],
   "source": [
    "Arm.Arm_serial_servo_write6( *[90, 81, 8, 28, 90], 146, 2000)"
   ]
  },
  {
   "cell_type": "code",
   "execution_count": 6,
   "id": "40ffcf27-e47b-4e67-84f4-fb47a5a8ba2c",
   "metadata": {},
   "outputs": [],
   "source": [
    "# go home \n",
    "Arm.Arm_serial_servo_write6(90,90,90,90,90,90,1500)"
   ]
  },
  {
   "cell_type": "code",
   "execution_count": null,
   "id": "821327b7-82e1-4a88-a25a-3af8affacc2d",
   "metadata": {},
   "outputs": [],
   "source": []
  }
 ],
 "metadata": {
  "kernelspec": {
   "display_name": "Python 3 (ipykernel)",
   "language": "python",
   "name": "python3"
  },
  "language_info": {
   "codemirror_mode": {
    "name": "ipython",
    "version": 3
   },
   "file_extension": ".py",
   "mimetype": "text/x-python",
   "name": "python",
   "nbconvert_exporter": "python",
   "pygments_lexer": "ipython3",
   "version": "3.8.10"
  }
 },
 "nbformat": 4,
 "nbformat_minor": 5
}
