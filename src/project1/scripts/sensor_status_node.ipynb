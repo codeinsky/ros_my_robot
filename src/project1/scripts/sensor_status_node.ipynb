{
 "cells": [
  {
   "cell_type": "code",
   "execution_count": 2,
   "id": "11dfd928-ccd8-4f10-b99b-7f2c4ab02fb8",
   "metadata": {},
   "outputs": [],
   "source": [
    "import rospy \n",
    "from std_msgs.msg import String, Float32\n",
    "import serial"
   ]
  },
  {
   "cell_type": "code",
   "execution_count": 3,
   "id": "1b69ae7c-7d44-4e18-b3e6-59000a493c21",
   "metadata": {},
   "outputs": [
    {
     "name": "stdout",
     "output_type": "stream",
     "text": [
      "Unable to register with master node [http://localhost:11311]: master may not be running yet. Will keep trying.\n"
     ]
    },
    {
     "ename": "ROSInitException",
     "evalue": "Failed to initialize time. Please check logs for additional details",
     "output_type": "error",
     "traceback": [
      "\u001b[0;31m---------------------------------------------------------------------------\u001b[0m",
      "\u001b[0;31mROSInitException\u001b[0m                          Traceback (most recent call last)",
      "Cell \u001b[0;32mIn[3], line 29\u001b[0m\n\u001b[1;32m     27\u001b[0m \u001b[38;5;28;01mif\u001b[39;00m \u001b[38;5;18m__name__\u001b[39m\u001b[38;5;241m==\u001b[39m\u001b[38;5;124m'\u001b[39m\u001b[38;5;124m__main__\u001b[39m\u001b[38;5;124m'\u001b[39m:\n\u001b[1;32m     28\u001b[0m     \u001b[38;5;28;01mtry\u001b[39;00m:\n\u001b[0;32m---> 29\u001b[0m         \u001b[43msensors_node\u001b[49m\u001b[43m(\u001b[49m\u001b[43m)\u001b[49m\n\u001b[1;32m     30\u001b[0m     \u001b[38;5;28;01mexcept\u001b[39;00m rospy\u001b[38;5;241m.\u001b[39mROSInterruptException:\n\u001b[1;32m     31\u001b[0m         \u001b[38;5;28;01mpass\u001b[39;00m\n",
      "Cell \u001b[0;32mIn[3], line 5\u001b[0m, in \u001b[0;36msensors_node\u001b[0;34m()\u001b[0m\n\u001b[1;32m      1\u001b[0m \u001b[38;5;28;01mdef\u001b[39;00m \u001b[38;5;21msensors_node\u001b[39m():\n\u001b[1;32m      2\u001b[0m     \u001b[38;5;66;03m# node initialize\u001b[39;00m\n\u001b[1;32m      3\u001b[0m     \u001b[38;5;66;03m# arg1 - node name \u001b[39;00m\n\u001b[1;32m      4\u001b[0m     \u001b[38;5;66;03m# arg2 - node can have few instances and node name will be generated to avoid nodes with same name \u001b[39;00m\n\u001b[0;32m----> 5\u001b[0m     \u001b[43mrospy\u001b[49m\u001b[38;5;241;43m.\u001b[39;49m\u001b[43minit_node\u001b[49m\u001b[43m(\u001b[49m\u001b[38;5;124;43m'\u001b[39;49m\u001b[38;5;124;43msensors_node_status\u001b[39;49m\u001b[38;5;124;43m'\u001b[39;49m\u001b[43m,\u001b[49m\u001b[43m \u001b[49m\u001b[43manonymous\u001b[49m\u001b[38;5;241;43m=\u001b[39;49m\u001b[38;5;28;43;01mTrue\u001b[39;49;00m\u001b[43m)\u001b[49m\n\u001b[1;32m      6\u001b[0m     \u001b[38;5;66;03m# setup publishers \u001b[39;00m\n\u001b[1;32m      7\u001b[0m     \u001b[38;5;66;03m# arg1 - publisher name \u001b[39;00m\n\u001b[1;32m      8\u001b[0m     \u001b[38;5;66;03m# arg2 - Message type \u001b[39;00m\n\u001b[1;32m      9\u001b[0m     \u001b[38;5;66;03m# queue_size - buffer for streamed messages\u001b[39;00m\n\u001b[1;32m     10\u001b[0m     pub1 \u001b[38;5;241m=\u001b[39m rospy\u001b[38;5;241m.\u001b[39mPublisher(\u001b[38;5;124m'\u001b[39m\u001b[38;5;124msenson6_topic\u001b[39m\u001b[38;5;124m'\u001b[39m, Float32, queue_size \u001b[38;5;241m=\u001b[39m \u001b[38;5;241m10\u001b[39m)\n",
      "File \u001b[0;32m/opt/ros/noetic/lib/python3/dist-packages/rospy/client.py:336\u001b[0m, in \u001b[0;36minit_node\u001b[0;34m(name, argv, anonymous, log_level, disable_rostime, disable_rosout, disable_signals, xmlrpc_port, tcpros_port)\u001b[0m\n\u001b[1;32m    334\u001b[0m \u001b[38;5;28;01mif\u001b[39;00m \u001b[38;5;129;01mnot\u001b[39;00m disable_rostime:\n\u001b[1;32m    335\u001b[0m     \u001b[38;5;28;01mif\u001b[39;00m \u001b[38;5;129;01mnot\u001b[39;00m rospy\u001b[38;5;241m.\u001b[39mimpl\u001b[38;5;241m.\u001b[39msimtime\u001b[38;5;241m.\u001b[39minit_simtime():\n\u001b[0;32m--> 336\u001b[0m         \u001b[38;5;28;01mraise\u001b[39;00m rospy\u001b[38;5;241m.\u001b[39mexceptions\u001b[38;5;241m.\u001b[39mROSInitException(\u001b[38;5;124m\"\u001b[39m\u001b[38;5;124mFailed to initialize time. Please check logs for additional details\u001b[39m\u001b[38;5;124m\"\u001b[39m)\n\u001b[1;32m    337\u001b[0m \u001b[38;5;28;01melse\u001b[39;00m:\n\u001b[1;32m    338\u001b[0m     rospy\u001b[38;5;241m.\u001b[39mrostime\u001b[38;5;241m.\u001b[39mset_rostime_initialized(\u001b[38;5;28;01mTrue\u001b[39;00m)\n",
      "\u001b[0;31mROSInitException\u001b[0m: Failed to initialize time. Please check logs for additional details"
     ]
    }
   ],
   "source": [
    "def sensors_node():\n",
    "    # node initialize\n",
    "    # arg1 - node name \n",
    "    # arg2 - node can have few instances and node name will be generated to avoid nodes with same name \n",
    "    rospy.init_node('sensors_node_status', anonymous=True)\n",
    "    # setup publishers \n",
    "    # arg1 - publisher name \n",
    "    # arg2 - Message type \n",
    "    # queue_size - buffer for streamed messages\n",
    "    pub1 = rospy.Publisher('senson6_topic', Float32, queue_size = 10)\n",
    "    pub2 = rospy.Publisher('senson7_topic', Float32, queue_size = 10)\n",
    "    pub3 = rospy.Publisher('senson8_topic', Float32, queue_size = 10)\n",
    "    pub4 = rospy.Publisher('senson9_topic', Float32, queue_size = 10)\n",
    "    pub5 = rospy.Publisher('senson10_topic', Float32, queue_size = 10)\n",
    "    pub6 = rospy.Publisher('senson11_topic', Float32, queue_size = 10)\n",
    "    #Serial connection \n",
    "    serial_object = serial.Serial('/dev/ttyUSB0',9600)\n",
    "    # Setting loop friquency \n",
    "    rate = rospy.Rate(10)\n",
    "    # Main node loop \n",
    "    while not rospy.is_shutdown():\n",
    "        # Check if data arravied on serial \n",
    "        if serial_object.in_waiting > 0:\n",
    "            sensor_status = serial_object.readline().decode('utf-8').strip()\n",
    "            print(sensor_status)\n",
    "        rate.sleep()\n",
    "if __name__=='__main__':\n",
    "    try:\n",
    "        sensors_node()\n",
    "    except rospy.ROSInterruptException:\n",
    "        pass\n",
    "    "
   ]
  },
  {
   "cell_type": "code",
   "execution_count": null,
   "id": "20a379c4-5fa5-439f-bd2a-382a840ed7fe",
   "metadata": {},
   "outputs": [],
   "source": []
  }
 ],
 "metadata": {
  "kernelspec": {
   "display_name": "Python 3 (ipykernel)",
   "language": "python",
   "name": "python3"
  },
  "language_info": {
   "codemirror_mode": {
    "name": "ipython",
    "version": 3
   },
   "file_extension": ".py",
   "mimetype": "text/x-python",
   "name": "python",
   "nbconvert_exporter": "python",
   "pygments_lexer": "ipython3",
   "version": "3.8.10"
  }
 },
 "nbformat": 4,
 "nbformat_minor": 5
}
