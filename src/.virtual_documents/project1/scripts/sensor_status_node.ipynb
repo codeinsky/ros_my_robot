import rospy 
from std_msgs.msg import String, Float32
import serial


def sensors_node():
    # node initialize
    # arg1 - node name 
    # arg2 - node can have few instances and node name will be generated to avoid nodes with same name 
    rospy.init_node('sensors_node_status', anonymous=True)
    # setup publishers 
    # arg1 - publisher name 
    # arg2 - Message type 
    # queue_size - buffer for streamed messages
    pub1 = rospy.Publisher('senson6_topic', Float32, queue_size = 10)
    pub2 = rospy.Publisher('senson7_topic', Float32, queue_size = 10)
    pub3 = rospy.Publisher('senson8_topic', Float32, queue_size = 10)
    pub4 = rospy.Publisher('senson9_topic', Float32, queue_size = 10)
    pub5 = rospy.Publisher('senson10_topic', Float32, queue_size = 10)
    pub6 = rospy.Publisher('senson11_topic', Float32, queue_size = 10)
    #Serial connection 
    serial_object = serial.Serial('/dev/ttyUSB0',9600)
    # Setting loop friquency 
    rate = rospy.Rate(10)
    # Main node loop 
    while not rospy.is_shutdown():
        # Check if data arravied on serial 
        if serial_object.in_waiting > 0:
            sensor_status = serial_object.readline().decode('utf-8').strip()
            print(sensor_status)
        rate.sleep()
if __name__=='__main__':
    try:
        sensors_node()
    except rospy.ROSInterruptException:
        pass
    


storage_status = {
  8 : 0,
  9 : 0,
  10: 0   
}


[key for key,value in storage_status.items() if value == 0]
