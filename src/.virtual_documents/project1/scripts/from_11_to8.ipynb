import time 
from Arm_Lib import Arm_Device
import sys
from time import sleep 


sys.path.insert(0,'../../Dofbot/0.py_install/Arm_Lib/')



from Arm_Lib import Arm_Device


Arm = Arm_Device()


Arm.Arm_Buzzer_On(1)
sleep(1)
Arm.Arm_Buzzer_On(0)


# go home 
Arm.Arm_serial_servo_write6(90,90,90,90,90,90,1500)


# got to manual position 11 with open arm 
Arm.Arm_serial_servo_write6(55, 66, 21, 33, 89, 90, 2000)



Arm.Arm_serial_servo_write(6,146,500)


#go to init with kube
Arm.Arm_serial_servo_write6(88, 131, 1, 49, 90, 146 ,2000)


#go to posiiton 8 
Arm.Arm_serial_servo_write6( 90, 81, 8, 28, 90, 90, 2000)



Arm.Arm_serial_servo_write(6,90,100)


#go to init with kube
Arm.Arm_serial_servo_write6(88, 131, 1, 49, 90, 90 ,2000)


sleep_time = 3
# All steps 
# go home 
Arm.Arm_serial_servo_write6(90,90,90,90,90,90,1500)
sleep(sleep_time)
# got to manual position 11 with open arm 
Arm.Arm_serial_servo_write6(55, 66, 21, 33, 89, 90, 2000)
sleep(sleep_time)
# arm close 
Arm.Arm_serial_servo_write(6,146,500)
sleep(sleep_time)
# go init with closed arm 
Arm.Arm_serial_servo_write6(88, 131, 1, 49, 90, 146 ,2000)
sleep(sleep_time)
#go to posiiton 8 
Arm.Arm_serial_servo_write6( 90, 81, 8, 28, 90, 146, 2000)
sleep(sleep_time)
# open gripper 
Arm.Arm_serial_servo_write(6,90,500)
sleep(sleep_time)
#go to init with kube
Arm.Arm_serial_servo_write6(88, 131, 1, 49, 90, 90 ,2000)
sleep(sleep_time)
Arm.Arm_serial_servo_write6(90,90,90,90,90,90,1500)





del Arm


Arm.Arm_serial_servo_write6( *[90, 81, 8, 28, 90], 146, 2000)


# go home 
Arm.Arm_serial_servo_write6(90,90,90,90,90,90,1500)



