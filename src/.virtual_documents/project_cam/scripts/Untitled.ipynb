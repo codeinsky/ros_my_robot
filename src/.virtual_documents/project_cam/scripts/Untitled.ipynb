import cv2


image = cv2.imread('./static/slot_9/image.jpg')


image.shape


gray = cv2.cvtColor(image, cv2.COLOR_BGR2GRAY)


gray.shape


blurred = cv2.GaussianBlur(gray,(5,5),1)


gray


edges = cv2.Canny(blurred,2,80)


edges


edges.shape


dilated = cv2.dilate(edges, None, iterations=4)


contours,_ = cv2.findContours(dilated, cv2.RETR_EXTERNAL ,cv2.CHAIN_APPROX_SIMPLE)


len(contours[2])


approx = cv2.approxPolyDP(contours[0], 0.02*cv2.arcLength(contours[0], True),True)


approx


each 
