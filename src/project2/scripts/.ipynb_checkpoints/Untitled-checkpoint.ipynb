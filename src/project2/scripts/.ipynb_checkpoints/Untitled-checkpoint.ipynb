{
 "cells": [
  {
   "cell_type": "code",
   "execution_count": 1,
   "id": "cac6a687-33d5-48c4-97a4-5e9a97a4440e",
   "metadata": {},
   "outputs": [],
   "source": [
    "import cv2\n",
    "import numpy as np \n",
    "from cv_bridge import CvBridge, CvBridgeError\n",
    "import numpy as np"
   ]
  },
  {
   "cell_type": "code",
   "execution_count": 2,
   "id": "ea4ed393-2578-46ab-bfa9-4cad97197ed7",
   "metadata": {},
   "outputs": [],
   "source": [
    "cap = cv2.VideoCapture(0)"
   ]
  },
  {
   "cell_type": "code",
   "execution_count": null,
   "id": "12d1fb4e-a5da-4776-97de-2640bdf8430d",
   "metadata": {},
   "outputs": [],
   "source": [
    "while True: \n",
    "    ret, frame = cap.read()\n",
    "    cv2.imshow(\"test\", frame)"
   ]
  },
  {
   "cell_type": "code",
   "execution_count": 128,
   "id": "be38be9b-4b13-44a2-bb72-e69c1ecb8b65",
   "metadata": {},
   "outputs": [
    {
     "ename": "NameError",
     "evalue": "name 'frame' is not defined",
     "output_type": "error",
     "traceback": [
      "\u001b[0;31m---------------------------------------------------------------------------\u001b[0m",
      "\u001b[0;31mNameError\u001b[0m                                 Traceback (most recent call last)",
      "Cell \u001b[0;32mIn[128], line 1\u001b[0m\n\u001b[0;32m----> 1\u001b[0m cv2\u001b[38;5;241m.\u001b[39mimshow(\u001b[38;5;124m\"\u001b[39m\u001b[38;5;124mtest\u001b[39m\u001b[38;5;124m\"\u001b[39m, \u001b[43mframe\u001b[49m)\n",
      "\u001b[0;31mNameError\u001b[0m: name 'frame' is not defined"
     ]
    }
   ],
   "source": [
    "cv2.imshow(\"test\", frame)"
   ]
  },
  {
   "cell_type": "code",
   "execution_count": 144,
   "id": "72f2f6fc-0fc0-4c7d-86fd-6738f2d69a10",
   "metadata": {},
   "outputs": [],
   "source": [
    "# load image in CV2 \n",
    "img = cv2.imread('image.jpg')"
   ]
  },
  {
   "cell_type": "code",
   "execution_count": 145,
   "id": "919ca170-b614-44d8-82d2-e7b6ab5b27e9",
   "metadata": {},
   "outputs": [],
   "source": [
    "gray = cv2.cvtColor(img, cv2.COLOR_BGR2GRAY)"
   ]
  },
  {
   "cell_type": "code",
   "execution_count": 146,
   "id": "38d1641a-b4f9-4678-abc9-b7dd898c1d4e",
   "metadata": {},
   "outputs": [],
   "source": [
    "blurred = cv2.GaussianBlur(gray,(5,5),1)\n"
   ]
  },
  {
   "cell_type": "code",
   "execution_count": 147,
   "id": "b7685e04-19c2-472c-826d-b534918982e0",
   "metadata": {},
   "outputs": [
    {
     "data": {
      "text/plain": [
       "True"
      ]
     },
     "execution_count": 147,
     "metadata": {},
     "output_type": "execute_result"
    }
   ],
   "source": [
    "edges = cv2.Canny(blurred,50,100)\n",
    "cv2.imwrite(\"image_edges.jpg\", edges)"
   ]
  },
  {
   "cell_type": "code",
   "execution_count": 109,
   "id": "9ace8bf2-9342-46cf-8871-2ca6a9036b88",
   "metadata": {},
   "outputs": [],
   "source": [
    "dilated = cv2.dilate(edges, None, iterations=3)"
   ]
  },
  {
   "cell_type": "code",
   "execution_count": 83,
   "id": "dda61ea9-b8cb-42be-939d-494ace29bdd4",
   "metadata": {},
   "outputs": [],
   "source": [
    "kernel = np.ones((5,5),np.uint8)"
   ]
  },
  {
   "cell_type": "code",
   "execution_count": 84,
   "id": "880045c5-47fa-4bb6-86f6-84c1095bceb5",
   "metadata": {},
   "outputs": [],
   "source": [
    "closed = cv2.morphologyEx(dilated, cv2.MORPH_CLOSE,kernel)"
   ]
  },
  {
   "cell_type": "code",
   "execution_count": 85,
   "id": "d3e69dea-baf7-4908-928b-f6720f80e994",
   "metadata": {},
   "outputs": [],
   "source": [
    "contours,_ = cv2.findContours(closed, cv2.RETR_EXTERNAL ,cv2.CHAIN_APPROX_SIMPLE) "
   ]
  },
  {
   "cell_type": "code",
   "execution_count": 86,
   "id": "810411ab-2a7d-429a-954d-4af93fda32b1",
   "metadata": {
    "scrolled": true
   },
   "outputs": [
    {
     "name": "stdout",
     "output_type": "stream",
     "text": [
      "found\n",
      "0.375\n",
      "found square\n",
      "found\n",
      "0.65\n",
      "found square\n",
      "found\n",
      "1.25\n",
      "found square\n",
      "found\n",
      "1.0934579439252337\n",
      "found square\n"
     ]
    }
   ],
   "source": [
    "for c in contours:\n",
    "    approx = cv2.approxPolyDP(c, 0.07*cv2.arcLength(c, True),True)\n",
    "    if len(approx) ==4:\n",
    "        print(\"found\")\n",
    "        x,y,w,h = cv2.boundingRect(approx)\n",
    "        ratio  = float(w)/h\n",
    "        print(ratio)\n",
    "        print(\"found square\")\n",
    "        cv2.drawContours(img,[approx],0,(0,255,0),2)\n",
    "        \n",
    "            \n",
    "            "
   ]
  },
  {
   "cell_type": "code",
   "execution_count": 87,
   "id": "cc255fe6-3a64-4fef-a0a7-dfa03ea52e19",
   "metadata": {},
   "outputs": [
    {
     "data": {
      "text/plain": [
       "True"
      ]
     },
     "execution_count": 87,
     "metadata": {},
     "output_type": "execute_result"
    }
   ],
   "source": [
    "cv2.imwrite(\"image_final.jpg\", img)"
   ]
  },
  {
   "cell_type": "code",
   "execution_count": 121,
   "id": "8a8c041f-f4f1-479f-8ba0-098bcfd54f97",
   "metadata": {},
   "outputs": [
    {
     "data": {
      "text/plain": [
       "True"
      ]
     },
     "execution_count": 121,
     "metadata": {},
     "output_type": "execute_result"
    }
   ],
   "source": [
    "cv2.imwrite(\"image_edges.jpg\", edges)"
   ]
  },
  {
   "cell_type": "code",
   "execution_count": 99,
   "id": "b75416ca-ecac-4e86-a3d3-2a6bdfddeb0e",
   "metadata": {},
   "outputs": [
    {
     "data": {
      "text/plain": [
       "True"
      ]
     },
     "execution_count": 99,
     "metadata": {},
     "output_type": "execute_result"
    }
   ],
   "source": [
    "cv2.imwrite(\"image_delited.jpg\",dilated)"
   ]
  },
  {
   "cell_type": "code",
   "execution_count": 67,
   "id": "3b106d85-0c68-42e6-92b8-d48bf09e3a6e",
   "metadata": {},
   "outputs": [
    {
     "data": {
      "text/plain": [
       "True"
      ]
     },
     "execution_count": 67,
     "metadata": {},
     "output_type": "execute_result"
    }
   ],
   "source": [
    "cv2.imwrite(\"image_closed.jpg\",closed)"
   ]
  },
  {
   "cell_type": "code",
   "execution_count": 324,
   "id": "4352e8de-e214-40b6-9860-eda947522167",
   "metadata": {},
   "outputs": [
    {
     "data": {
      "text/plain": [
       "True"
      ]
     },
     "execution_count": 324,
     "metadata": {},
     "output_type": "execute_result"
    }
   ],
   "source": [
    "\n",
    "cv2.imwrite(\"image_tresh.jpg\",blurred)"
   ]
  },
  {
   "cell_type": "code",
   "execution_count": null,
   "id": "1f1eed95-7870-4350-a695-4d1f717f95f9",
   "metadata": {},
   "outputs": [],
   "source": [
    "edg"
   ]
  }
 ],
 "metadata": {
  "kernelspec": {
   "display_name": "Python 3 (ipykernel)",
   "language": "python",
   "name": "python3"
  },
  "language_info": {
   "codemirror_mode": {
    "name": "ipython",
    "version": 3
   },
   "file_extension": ".py",
   "mimetype": "text/x-python",
   "name": "python",
   "nbconvert_exporter": "python",
   "pygments_lexer": "ipython3",
   "version": "3.8.10"
  }
 },
 "nbformat": 4,
 "nbformat_minor": 5
}
