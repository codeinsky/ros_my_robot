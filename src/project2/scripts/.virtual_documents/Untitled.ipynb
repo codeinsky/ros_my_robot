import cv2
import numpy as np 
from cv_bridge import CvBridge, CvBridgeError
import numpy as np


cap = cv2.VideoCapture(0)


while True: 
    ret, frame = cap.read()
    cv2.imshow("test", frame)


cv2.imshow("test", frame)


# load image in CV2 
img = cv2.imread('image.jpg')


gray = cv2.cvtColor(img, cv2.COLOR_BGR2GRAY)


blurred = cv2.GaussianBlur(gray,(9,9),1)



edges = cv2.Canny(blurred,2,40)


dilated = cv2.dilate(edges, None, iterations=15)


kernel = np.ones((7,7),np.uint8)


closed = cv2.morphologyEx(dilated, cv2.MORPH_CLOSE,kernel)


contours,_ = cv2.findContours(closed, cv2.RETR_EXTERNAL ,cv2.CHAIN_APPROX_SIMPLE) 


for c in contours:
    approx = cv2.approxPolyDP(c, 0.04*cv2.arcLength(c, True),True)
    if len(approx) ==4:
        print("found")
        x,y,w,h = cv2.boundingRect(approx)
        ratio  = float(w)/h
        print(ratio)
        print("found square")
        cv2.drawContours(img,[approx],0,(0,255,0),2)
        break
            
            


cv2.imwrite("image_final.jpg", img)


cv2.imwrite("image_edges.jpg", edges)


cv2.imwrite("image_delited.jpg",dilated)


cv2.imwrite("image_closed.jpg",closed)



cv2.imwrite("image_tresh.jpg",blurred)


edg
