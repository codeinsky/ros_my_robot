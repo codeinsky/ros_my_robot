{
 "cells": [
  {
   "cell_type": "code",
   "execution_count": 1,
   "id": "cac6a687-33d5-48c4-97a4-5e9a97a4440e",
   "metadata": {},
   "outputs": [],
   "source": [
    "import cv2\n",
    "import numpy as np \n",
    "from cv_bridge import CvBridge, CvBridgeError"
   ]
  },
  {
   "cell_type": "code",
   "execution_count": 2,
   "id": "ea4ed393-2578-46ab-bfa9-4cad97197ed7",
   "metadata": {},
   "outputs": [],
   "source": [
    "cap = cv2.VideoCapture(0)"
   ]
  },
  {
   "cell_type": "code",
   "execution_count": null,
   "id": "12d1fb4e-a5da-4776-97de-2640bdf8430d",
   "metadata": {},
   "outputs": [],
   "source": [
    "while True: \n",
    "    ret, frame = cap.read()\n",
    "    cv2.imshow(\"test\", frame)"
   ]
  },
  {
   "cell_type": "code",
   "execution_count": 5,
   "id": "be38be9b-4b13-44a2-bb72-e69c1ecb8b65",
   "metadata": {},
   "outputs": [],
   "source": [
    "cv2.imshow(\"test\", frame)"
   ]
  },
  {
   "cell_type": "code",
   "execution_count": null,
   "id": "72f2f6fc-0fc0-4c7d-86fd-6738f2d69a10",
   "metadata": {},
   "outputs": [],
   "source": []
  }
 ],
 "metadata": {
  "kernelspec": {
   "display_name": "Python 3 (ipykernel)",
   "language": "python",
   "name": "python3"
  },
  "language_info": {
   "codemirror_mode": {
    "name": "ipython",
    "version": 3
   },
   "file_extension": ".py",
   "mimetype": "text/x-python",
   "name": "python",
   "nbconvert_exporter": "python",
   "pygments_lexer": "ipython3",
   "version": "3.8.10"
  }
 },
 "nbformat": 4,
 "nbformat_minor": 5
}
