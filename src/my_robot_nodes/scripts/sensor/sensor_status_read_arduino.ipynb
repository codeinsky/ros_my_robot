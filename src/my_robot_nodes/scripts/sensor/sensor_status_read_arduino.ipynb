{
 "cells": [
  {
   "cell_type": "code",
   "execution_count": 10,
   "id": "8a74070c-21e2-4561-b800-330fbbaeaff5",
   "metadata": {},
   "outputs": [],
   "source": [
    "import rospy \n",
    "from std_msgs.msg import String\n",
    "import serial"
   ]
  },
  {
   "cell_type": "code",
   "execution_count": 13,
   "id": "dbff0b98-7bda-4c2e-a2e7-07f26a774cf3",
   "metadata": {},
   "outputs": [
    {
     "ename": "ROSInitException",
     "evalue": "time is not initialized. Have you called init_node()?",
     "output_type": "error",
     "traceback": [
      "\u001b[0;31m---------------------------------------------------------------------------\u001b[0m",
      "\u001b[0;31mROSInitException\u001b[0m                          Traceback (most recent call last)",
      "Cell \u001b[0;32mIn[13], line 15\u001b[0m\n\u001b[1;32m     13\u001b[0m \u001b[38;5;28;01mif\u001b[39;00m \u001b[38;5;18m__name__\u001b[39m \u001b[38;5;241m==\u001b[39m \u001b[38;5;124m'\u001b[39m\u001b[38;5;124m__main__\u001b[39m\u001b[38;5;124m'\u001b[39m:\n\u001b[1;32m     14\u001b[0m     \u001b[38;5;28;01mtry\u001b[39;00m:\n\u001b[0;32m---> 15\u001b[0m         \u001b[43mstream_sensor\u001b[49m\u001b[43m(\u001b[49m\u001b[43m)\u001b[49m\n\u001b[1;32m     16\u001b[0m     \u001b[38;5;28;01mexcept\u001b[39;00m rospy\u001b[38;5;241m.\u001b[39mROSInterruptException:\n\u001b[1;32m     17\u001b[0m         \u001b[38;5;28;01mpass\u001b[39;00m\n",
      "Cell \u001b[0;32mIn[13], line 5\u001b[0m, in \u001b[0;36mstream_sensor\u001b[0;34m()\u001b[0m\n\u001b[1;32m      3\u001b[0m publisher \u001b[38;5;241m=\u001b[39m rospy\u001b[38;5;241m.\u001b[39mPublisher(\u001b[38;5;124m'\u001b[39m\u001b[38;5;124msensor_data\u001b[39m\u001b[38;5;124m'\u001b[39m,String, queue_size\u001b[38;5;241m=\u001b[39m\u001b[38;5;241m10\u001b[39m)\n\u001b[1;32m      4\u001b[0m serial_object \u001b[38;5;241m=\u001b[39m serial\u001b[38;5;241m.\u001b[39mSerial(\u001b[38;5;124m'\u001b[39m\u001b[38;5;124m/dev/ttyUSB1\u001b[39m\u001b[38;5;124m'\u001b[39m,\u001b[38;5;241m9600\u001b[39m)\n\u001b[0;32m----> 5\u001b[0m rate\u001b[38;5;241m=\u001b[39m \u001b[43mrospy\u001b[49m\u001b[38;5;241;43m.\u001b[39;49m\u001b[43mRate\u001b[49m\u001b[43m(\u001b[49m\u001b[38;5;241;43m10\u001b[39;49m\u001b[43m)\u001b[49m\n\u001b[1;32m      6\u001b[0m \u001b[38;5;28;01mwhile\u001b[39;00m \u001b[38;5;129;01mnot\u001b[39;00m rospy\u001b[38;5;241m.\u001b[39mis_shutdown():\n\u001b[1;32m      7\u001b[0m     \u001b[38;5;66;03m# check if there is data in the serial port ready fot intro \u001b[39;00m\n\u001b[1;32m      8\u001b[0m     \u001b[38;5;28;01mif\u001b[39;00m serial_object\u001b[38;5;241m.\u001b[39min_waiting \u001b[38;5;241m>\u001b[39m \u001b[38;5;241m0\u001b[39m:\n",
      "File \u001b[0;32m/opt/ros/noetic/lib/python3/dist-packages/rospy/timer.py:61\u001b[0m, in \u001b[0;36mRate.__init__\u001b[0;34m(self, hz, reset)\u001b[0m\n\u001b[1;32m     53\u001b[0m \u001b[38;5;250m\u001b[39m\u001b[38;5;124;03m\"\"\"\u001b[39;00m\n\u001b[1;32m     54\u001b[0m \u001b[38;5;124;03mConstructor.\u001b[39;00m\n\u001b[1;32m     55\u001b[0m \u001b[38;5;124;03m@param hz: hz rate to determine sleeping\u001b[39;00m\n\u001b[0;32m   (...)\u001b[0m\n\u001b[1;32m     58\u001b[0m \u001b[38;5;124;03m@type  reset: bool\u001b[39;00m\n\u001b[1;32m     59\u001b[0m \u001b[38;5;124;03m\"\"\"\u001b[39;00m\n\u001b[1;32m     60\u001b[0m \u001b[38;5;66;03m# #1403\u001b[39;00m\n\u001b[0;32m---> 61\u001b[0m \u001b[38;5;28mself\u001b[39m\u001b[38;5;241m.\u001b[39mlast_time \u001b[38;5;241m=\u001b[39m \u001b[43mrospy\u001b[49m\u001b[38;5;241;43m.\u001b[39;49m\u001b[43mrostime\u001b[49m\u001b[38;5;241;43m.\u001b[39;49m\u001b[43mget_rostime\u001b[49m\u001b[43m(\u001b[49m\u001b[43m)\u001b[49m\n\u001b[1;32m     62\u001b[0m \u001b[38;5;28mself\u001b[39m\u001b[38;5;241m.\u001b[39msleep_dur \u001b[38;5;241m=\u001b[39m rospy\u001b[38;5;241m.\u001b[39mrostime\u001b[38;5;241m.\u001b[39mDuration(\u001b[38;5;241m0\u001b[39m, \u001b[38;5;28mint\u001b[39m(\u001b[38;5;241m1e9\u001b[39m\u001b[38;5;241m/\u001b[39mhz))\n\u001b[1;32m     63\u001b[0m \u001b[38;5;28mself\u001b[39m\u001b[38;5;241m.\u001b[39m_reset \u001b[38;5;241m=\u001b[39m reset\n",
      "File \u001b[0;32m/opt/ros/noetic/lib/python3/dist-packages/rospy/rostime.py:190\u001b[0m, in \u001b[0;36mget_rostime\u001b[0;34m()\u001b[0m\n\u001b[1;32m    184\u001b[0m \u001b[38;5;250m\u001b[39m\u001b[38;5;124;03m\"\"\"\u001b[39;00m\n\u001b[1;32m    185\u001b[0m \u001b[38;5;124;03mGet the current time as a L{Time} object    \u001b[39;00m\n\u001b[1;32m    186\u001b[0m \u001b[38;5;124;03m@return: current time as a L{rospy.Time} object\u001b[39;00m\n\u001b[1;32m    187\u001b[0m \u001b[38;5;124;03m@rtype: L{Time}\u001b[39;00m\n\u001b[1;32m    188\u001b[0m \u001b[38;5;124;03m\"\"\"\u001b[39;00m\n\u001b[1;32m    189\u001b[0m \u001b[38;5;28;01mif\u001b[39;00m \u001b[38;5;129;01mnot\u001b[39;00m _rostime_initialized:\n\u001b[0;32m--> 190\u001b[0m     \u001b[38;5;28;01mraise\u001b[39;00m rospy\u001b[38;5;241m.\u001b[39mexceptions\u001b[38;5;241m.\u001b[39mROSInitException(\u001b[38;5;124m\"\u001b[39m\u001b[38;5;124mtime is not initialized. Have you called init_node()?\u001b[39m\u001b[38;5;124m\"\u001b[39m)\n\u001b[1;32m    191\u001b[0m \u001b[38;5;28;01mif\u001b[39;00m _rostime_current \u001b[38;5;129;01mis\u001b[39;00m \u001b[38;5;129;01mnot\u001b[39;00m \u001b[38;5;28;01mNone\u001b[39;00m:\n\u001b[1;32m    192\u001b[0m     \u001b[38;5;66;03m# initialize with sim time\u001b[39;00m\n\u001b[1;32m    193\u001b[0m     \u001b[38;5;28;01mreturn\u001b[39;00m _rostime_current\n",
      "\u001b[0;31mROSInitException\u001b[0m: time is not initialized. Have you called init_node()?"
     ]
    }
   ],
   "source": [
    "def stream_sensor():\n",
    "    rospy.init_node('arduino_sensor_node', anonymous=True)\n",
    "    publisher = rospy.Publisher('sensor_data',String, queue_size=10)\n",
    "    serial_object = serial.Serial('/dev/ttyUSB1',9600)\n",
    "    rate= rospy.Rate(10)\n",
    "    while not rospy.is_shutdown():\n",
    "        # check if there is data in the serial port ready fot intro \n",
    "        if serial_object.in_waiting > 0:\n",
    "            sensor_status = serial_object.readline().decode('utf-8').strip()\n",
    "            publisher.publish(sensor_status)\n",
    "            print(sensor_status)\n",
    "        rate.sleep()\n",
    "if __name__ == '__main__':\n",
    "    try:\n",
    "        stream_sensor()\n",
    "    except rospy.ROSInterruptException:\n",
    "        pass\n",
    "        \n",
    "        "
   ]
  },
  {
   "cell_type": "code",
   "execution_count": null,
   "id": "311f137d-83e1-4877-8632-539567c92da7",
   "metadata": {},
   "outputs": [],
   "source": []
  }
 ],
 "metadata": {
  "kernelspec": {
   "display_name": "Python 3 (ipykernel)",
   "language": "python",
   "name": "python3"
  },
  "language_info": {
   "codemirror_mode": {
    "name": "ipython",
    "version": 3
   },
   "file_extension": ".py",
   "mimetype": "text/x-python",
   "name": "python",
   "nbconvert_exporter": "python",
   "pygments_lexer": "ipython3",
   "version": "3.8.10"
  }
 },
 "nbformat": 4,
 "nbformat_minor": 5
}
