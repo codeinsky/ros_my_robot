{
 "cells": [
  {
   "cell_type": "code",
   "execution_count": 3,
   "id": "6f1d83e3-b655-41af-a5ba-c935c266a8df",
   "metadata": {},
   "outputs": [],
   "source": [
    "import cv2"
   ]
  },
  {
   "cell_type": "code",
   "execution_count": 4,
   "id": "e0d2bc03-6d64-4fac-ae0f-969f79809070",
   "metadata": {},
   "outputs": [],
   "source": [
    "image = cv2.imread('./static/slot_9/image.jpg')"
   ]
  },
  {
   "cell_type": "code",
   "execution_count": 6,
   "id": "34fe9219-4b2e-4b10-959f-fca74b3f6ec7",
   "metadata": {},
   "outputs": [
    {
     "data": {
      "text/plain": [
       "(480, 640, 3)"
      ]
     },
     "execution_count": 6,
     "metadata": {},
     "output_type": "execute_result"
    }
   ],
   "source": [
    "image.shape"
   ]
  },
  {
   "cell_type": "code",
   "execution_count": 7,
   "id": "8f0b04fe-6a08-46c2-beca-90f5b4b64706",
   "metadata": {},
   "outputs": [],
   "source": [
    "gray = cv2.cvtColor(image, cv2.COLOR_BGR2GRAY)"
   ]
  },
  {
   "cell_type": "code",
   "execution_count": 8,
   "id": "8476b84b-a94c-491a-b943-1fa574671357",
   "metadata": {},
   "outputs": [
    {
     "data": {
      "text/plain": [
       "(480, 640)"
      ]
     },
     "execution_count": 8,
     "metadata": {},
     "output_type": "execute_result"
    }
   ],
   "source": [
    "gray.shape"
   ]
  },
  {
   "cell_type": "code",
   "execution_count": 10,
   "id": "6d1cfb1f-68d9-4a21-9cdf-eb5e5205c1c7",
   "metadata": {},
   "outputs": [],
   "source": [
    "blurred = cv2.GaussianBlur(gray,(5,5),1)"
   ]
  },
  {
   "cell_type": "code",
   "execution_count": 9,
   "id": "5b61e697-a86b-438c-9776-518c03195236",
   "metadata": {},
   "outputs": [
    {
     "data": {
      "text/plain": [
       "array([[ 44,  43,  41, ...,  61,  61,  62],\n",
       "       [ 42,  41,  40, ...,  61,  61,  61],\n",
       "       [ 41,  40,  39, ...,  61,  60,  60],\n",
       "       ...,\n",
       "       [ 31,  30,  29, ..., 136, 147, 146],\n",
       "       [ 31,  30,  29, ..., 124, 126, 131],\n",
       "       [ 34,  32,  30, ..., 112, 112, 116]], dtype=uint8)"
      ]
     },
     "execution_count": 9,
     "metadata": {},
     "output_type": "execute_result"
    }
   ],
   "source": [
    "gray"
   ]
  },
  {
   "cell_type": "code",
   "execution_count": 11,
   "id": "778384a3-fc58-4e8b-96a1-1a364edaeaab",
   "metadata": {},
   "outputs": [],
   "source": [
    "edges = cv2.Canny(blurred,2,80)"
   ]
  },
  {
   "cell_type": "code",
   "execution_count": 12,
   "id": "1675a905-c570-47ec-8321-1f90a9b18f29",
   "metadata": {},
   "outputs": [
    {
     "data": {
      "text/plain": [
       "array([[0, 0, 0, ..., 0, 0, 0],\n",
       "       [0, 0, 0, ..., 0, 0, 0],\n",
       "       [0, 0, 0, ..., 0, 0, 0],\n",
       "       ...,\n",
       "       [0, 0, 0, ..., 0, 0, 0],\n",
       "       [0, 0, 0, ..., 0, 0, 0],\n",
       "       [0, 0, 0, ..., 0, 0, 0]], dtype=uint8)"
      ]
     },
     "execution_count": 12,
     "metadata": {},
     "output_type": "execute_result"
    }
   ],
   "source": [
    "edges"
   ]
  },
  {
   "cell_type": "code",
   "execution_count": 13,
   "id": "6c4c357e-b917-42e0-b8ed-c01696ae1600",
   "metadata": {},
   "outputs": [
    {
     "data": {
      "text/plain": [
       "(480, 640)"
      ]
     },
     "execution_count": 13,
     "metadata": {},
     "output_type": "execute_result"
    }
   ],
   "source": [
    "edges.shape"
   ]
  },
  {
   "cell_type": "code",
   "execution_count": 14,
   "id": "4a324c93-462e-4353-ab23-736aa79166c2",
   "metadata": {},
   "outputs": [],
   "source": [
    "dilated = cv2.dilate(edges, None, iterations=4)"
   ]
  },
  {
   "cell_type": "code",
   "execution_count": 15,
   "id": "7f1bc849-a4b0-4c98-82ac-98d2347532d7",
   "metadata": {},
   "outputs": [],
   "source": [
    "contours,_ = cv2.findContours(dilated, cv2.RETR_EXTERNAL ,cv2.CHAIN_APPROX_SIMPLE)"
   ]
  },
  {
   "cell_type": "code",
   "execution_count": 23,
   "id": "86533bdd-66d9-4e30-a212-212acf305e8d",
   "metadata": {},
   "outputs": [
    {
     "data": {
      "text/plain": [
       "12"
      ]
     },
     "execution_count": 23,
     "metadata": {},
     "output_type": "execute_result"
    }
   ],
   "source": [
    "len(contours[2])"
   ]
  },
  {
   "cell_type": "code",
   "execution_count": 25,
   "id": "7a549b9d-0055-4cf6-8139-2efea2d2df39",
   "metadata": {},
   "outputs": [],
   "source": [
    "approx = cv2.approxPolyDP(contours[0], 0.02*cv2.arcLength(contours[0], True),True)"
   ]
  },
  {
   "cell_type": "code",
   "execution_count": 26,
   "id": "54d6741c-84fd-49af-88c8-d006d1607f35",
   "metadata": {},
   "outputs": [
    {
     "data": {
      "text/plain": [
       "array([[[639, 442]],\n",
       "\n",
       "       [[634, 442]],\n",
       "\n",
       "       [[623, 465]],\n",
       "\n",
       "       [[612, 464]],\n",
       "\n",
       "       [[611, 454]],\n",
       "\n",
       "       [[602, 454]],\n",
       "\n",
       "       [[603, 472]],\n",
       "\n",
       "       [[639, 479]]], dtype=int32)"
      ]
     },
     "execution_count": 26,
     "metadata": {},
     "output_type": "execute_result"
    }
   ],
   "source": [
    "approx"
   ]
  },
  {
   "cell_type": "code",
   "execution_count": null,
   "id": "3c37eadc-3daf-414c-a6ef-5c87d73d341b",
   "metadata": {},
   "outputs": [],
   "source": [
    "each "
   ]
  }
 ],
 "metadata": {
  "kernelspec": {
   "display_name": "Python 3 (ipykernel)",
   "language": "python",
   "name": "python3"
  },
  "language_info": {
   "codemirror_mode": {
    "name": "ipython",
    "version": 3
   },
   "file_extension": ".py",
   "mimetype": "text/x-python",
   "name": "python",
   "nbconvert_exporter": "python",
   "pygments_lexer": "ipython3",
   "version": "3.8.10"
  }
 },
 "nbformat": 4,
 "nbformat_minor": 5
}
